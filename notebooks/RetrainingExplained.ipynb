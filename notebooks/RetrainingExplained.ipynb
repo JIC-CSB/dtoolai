{
 "cells": [
  {
   "cell_type": "markdown",
   "metadata": {
    "colab_type": "text",
    "id": "mD5BJNj3tbL7"
   },
   "source": [
    "# Retraining a pretrained network\n",
    "\n",
    "Here we'll take an in-depth look at how we can use dtoolAI to help with retraining a pre-trained image recognition network on new types of image. Using a pre-trained network makes training much faster.\n",
    "\n",
    "We're going to load a network trained on the ImageNet <http://www.image-net.org/> dataset, a large collection of images with 1000 different labels. We'll then retrain our network on new data.\n"
   ]
  },
  {
   "cell_type": "markdown",
   "metadata": {
    "colab_type": "text",
    "id": "FrV77IZjtp0d"
   },
   "source": [
    "## Loading and examining data\n",
    "\n",
    "To provde a simple example, we've created a small DataSet containing just two categories of images from the CalTech 101 objects <http://www.vision.caltech.edu/Image_Datasets/Caltech101/> dataset. If you'd like to do this using your own data, the second half of the dtoolAI documentation on retraining: <https://dtoolai.readthedocs.io/en/latest/retraining.html#part-2-with-raw-data> explains how to prepare data.\n",
    "\n",
    "Let's load the dataset:"
   ]
  },
  {
   "cell_type": "code",
   "execution_count": 0,
   "metadata": {
    "colab": {},
    "colab_type": "code",
    "id": "r-_ev0VMtbL9"
   },
   "outputs": [],
   "source": [
    "from dtoolai.data import ImageDataSet, scaled_float_array_to_pil_image"
   ]
  },
  {
   "cell_type": "code",
   "execution_count": 0,
   "metadata": {
    "colab": {},
    "colab_type": "code",
    "id": "5_e4_r9btbME"
   },
   "outputs": [],
   "source": [
    "train_ds = ImageDataSet(\"http://bit.ly/3aRvimq\")"
   ]
  },
  {
   "cell_type": "markdown",
   "metadata": {
    "colab_type": "text",
    "id": "V5gD39-buvfF"
   },
   "source": [
    "We can look at the metadata associated with this training DataSet:"
   ]
  },
  {
   "cell_type": "code",
   "execution_count": 0,
   "metadata": {
    "colab": {},
    "colab_type": "code",
    "id": "ZBZTc1B9ulXv"
   },
   "outputs": [],
   "source": [
    "print(train_ds.dataset.get_readme_content())"
   ]
  },
  {
   "cell_type": "markdown",
   "metadata": {
    "colab_type": "text",
    "id": "JilHlilLtbML"
   },
   "source": [
    "Now we can extract a single image and label to look at:"
   ]
  },
  {
   "cell_type": "code",
   "execution_count": 0,
   "metadata": {
    "colab": {},
    "colab_type": "code",
    "id": "Ub_IDDIctbMM"
   },
   "outputs": [],
   "source": [
    "imarray, label = train_ds[0]"
   ]
  },
  {
   "cell_type": "code",
   "execution_count": 0,
   "metadata": {
    "colab": {},
    "colab_type": "code",
    "id": "F4o6WUXltbMQ"
   },
   "outputs": [],
   "source": [
    "scaled_float_array_to_pil_image(imarray)"
   ]
  },
  {
   "cell_type": "markdown",
   "metadata": {
    "colab_type": "text",
    "id": "UxrhBiD_tbMW"
   },
   "source": [
    "We can check this images label, both numerically:"
   ]
  },
  {
   "cell_type": "code",
   "execution_count": 0,
   "metadata": {
    "colab": {},
    "colab_type": "code",
    "id": "J1jc8xxjtbMX"
   },
   "outputs": [],
   "source": [
    "label"
   ]
  },
  {
   "cell_type": "markdown",
   "metadata": {
    "colab_type": "text",
    "id": "1wQzsOeBtbMb"
   },
   "source": [
    "and, by looking up the categorical encoding, work out what this means:"
   ]
  },
  {
   "cell_type": "code",
   "execution_count": 0,
   "metadata": {
    "colab": {},
    "colab_type": "code",
    "id": "bQteuocytbMc"
   },
   "outputs": [],
   "source": [
    "train_ds.cat_encoding"
   ]
  },
  {
   "cell_type": "markdown",
   "metadata": {
    "colab_type": "text",
    "id": "uZIvdylmtbMh"
   },
   "source": [
    "or we can look at another example:"
   ]
  },
  {
   "cell_type": "code",
   "execution_count": 0,
   "metadata": {
    "colab": {},
    "colab_type": "code",
    "id": "583Ff68CtbMi"
   },
   "outputs": [],
   "source": [
    "imarray, label = train_ds[3]\n",
    "scaled_float_array_to_pil_image(imarray)"
   ]
  },
  {
   "cell_type": "markdown",
   "metadata": {
    "colab_type": "text",
    "id": "1P9e74MEtbMm"
   },
   "source": [
    "## Setting parameters\n",
    "\n",
    "Before training, we'll need to set some parameters. We do this using dtoolAI's ``Parameters`` class, which provides support for recording these parameters automatically during model training."
   ]
  },
  {
   "cell_type": "code",
   "execution_count": 0,
   "metadata": {
    "colab": {},
    "colab_type": "code",
    "id": "XKCvdJtxtbMm"
   },
   "outputs": [],
   "source": [
    "from dtoolai.parameters import Parameters"
   ]
  },
  {
   "cell_type": "markdown",
   "metadata": {
    "colab_type": "text",
    "id": "Ush-BDQDtbMp"
   },
   "source": [
    "We need to make sure that we tell the model we'll create how many categories\n",
    "it will need to classify. This corresponds to the size of the category encoding\n",
    "in our input dataset."
   ]
  },
  {
   "cell_type": "code",
   "execution_count": 0,
   "metadata": {
    "colab": {},
    "colab_type": "code",
    "id": "arJGnSFwtbMr"
   },
   "outputs": [],
   "source": [
    "init_params = {\n",
    "    'n_outputs': len(train_ds.cat_encoding)\n",
    "}\n",
    "\n",
    "params = Parameters(\n",
    "    batch_size=4,\n",
    "    learning_rate=0.001,\n",
    "    n_epochs=1,\n",
    "    init_params=init_params\n",
    ")"
   ]
  },
  {
   "cell_type": "markdown",
   "metadata": {
    "colab_type": "text",
    "id": "7mO8T2t1whQG"
   },
   "source": [
    "## Loading a pretrained model"
   ]
  },
  {
   "cell_type": "markdown",
   "metadata": {
    "colab_type": "text",
    "id": "9pWWPCPNtbMu"
   },
   "source": [
    "Then we load our pretrained model. We're using ResNet <https://arxiv.org/abs/1512.03385>, with a new classifier added at the end."
   ]
  },
  {
   "cell_type": "code",
   "execution_count": 0,
   "metadata": {
    "colab": {},
    "colab_type": "code",
    "id": "tOTEYdgatbMv"
   },
   "outputs": [],
   "source": [
    "from dtoolai.models import ResNet18Pretrained\n",
    "model = ResNet18Pretrained(**init_params)"
   ]
  },
  {
   "cell_type": "markdown",
   "metadata": {
    "colab_type": "text",
    "id": "6BP1ZS_ftbM3"
   },
   "source": [
    "Now we need to set a loss function and an optimiser:"
   ]
  },
  {
   "cell_type": "code",
   "execution_count": 0,
   "metadata": {
    "colab": {},
    "colab_type": "code",
    "id": "CaC4LHXStbM4"
   },
   "outputs": [],
   "source": [
    "import torch\n",
    "loss_fn = torch.nn.CrossEntropyLoss()\n",
    "optim = torch.optim.SGD(model.parameters(), lr=params.learning_rate)"
   ]
  },
  {
   "cell_type": "markdown",
   "metadata": {
    "colab_type": "text",
    "id": "gdvLFuOsvYje"
   },
   "source": [
    "## Retraining the model\n",
    "\n",
    "Now we're ready to retrain the model on our new data.\n",
    "\n",
    "First we'll import the functions dtoolAI provides to support training/retraining:\n",
    "\n"
   ]
  },
  {
   "cell_type": "code",
   "execution_count": 0,
   "metadata": {
    "colab": {},
    "colab_type": "code",
    "id": "ErtlAfTftbM7"
   },
   "outputs": [],
   "source": [
    "from dtoolai.training import train_model_with_metadata_capture\n",
    "from dtoolcore import DerivedDataSetCreator"
   ]
  },
  {
   "cell_type": "markdown",
   "metadata": {
    "colab_type": "text",
    "id": "IGngFa_5vfN8"
   },
   "source": [
    "We'll need to create a directory to which we can write our trained model:"
   ]
  },
  {
   "cell_type": "code",
   "execution_count": 0,
   "metadata": {
    "colab": {},
    "colab_type": "code",
    "id": "mCQd36sptbM-"
   },
   "outputs": [],
   "source": [
    "import os\n",
    "os.mkdir(\"../scratch\")"
   ]
  },
  {
   "cell_type": "markdown",
   "metadata": {
    "colab_type": "text",
    "id": "YlGr6mIfvlz5"
   },
   "source": [
    "Now we're ready to train our model. This might take a few minutes!:"
   ]
  },
  {
   "cell_type": "code",
   "execution_count": 0,
   "metadata": {
    "colab": {},
    "colab_type": "code",
    "id": "k5QGFXMStbNC"
   },
   "outputs": [],
   "source": [
    "with DerivedDataSetCreator('twocat.image.model', '../scratch', train_ds) as output_ds:\n",
    "    train_model_with_metadata_capture(model, train_ds, optim, loss_fn, params, output_ds)"
   ]
  },
  {
   "cell_type": "markdown",
   "metadata": {
    "colab_type": "text",
    "id": "qGNOJV-YtbNE"
   },
   "source": [
    "## Evaluating the retrained model"
   ]
  },
  {
   "cell_type": "markdown",
   "metadata": {
    "colab_type": "text",
    "id": "DR4ggWyLtsNN"
   },
   "source": [
    "To evaluate the model, we can take advantage of the way the two category DataSet has been created. Some of the images are marked as training data, and some as test data. When we loaded the data earlier, we got the training set, now we can load the test set:"
   ]
  },
  {
   "cell_type": "code",
   "execution_count": 0,
   "metadata": {
    "colab": {},
    "colab_type": "code",
    "id": "7nSqhEwGweDg"
   },
   "outputs": [],
   "source": [
    "test_ds = ImageDataSet(\"http://bit.ly/3aRvimq\", usetype=\"test\")"
   ]
  },
  {
   "cell_type": "markdown",
   "metadata": {
    "colab_type": "text",
    "id": "GjXhgrsjxm22"
   },
   "source": [
    "We can check that the train and test DataSets have different sizes:"
   ]
  },
  {
   "cell_type": "code",
   "execution_count": 0,
   "metadata": {
    "colab": {},
    "colab_type": "code",
    "id": "QtmlNKN3xFlU"
   },
   "outputs": [],
   "source": [
    "print(f\"Training dataset has {len(train_ds)} items, test dataset has {len(test_ds)}\")"
   ]
  },
  {
   "cell_type": "markdown",
   "metadata": {
    "colab_type": "text",
    "id": "HFGfJPmCy8Wk"
   },
   "source": [
    "Now we can a helper function to evaluate our model:"
   ]
  },
  {
   "cell_type": "code",
   "execution_count": 0,
   "metadata": {
    "colab": {},
    "colab_type": "code",
    "id": "TRnS7LhaxQTt"
   },
   "outputs": [],
   "source": [
    "from dtoolai.utils import evaluate_model\n",
    "from torch.utils.data import DataLoader"
   ]
  },
  {
   "cell_type": "markdown",
   "metadata": {
    "colab_type": "text",
    "id": "RKjYPmGBzKvi"
   },
   "source": [
    "Then we run the evaluation:"
   ]
  },
  {
   "cell_type": "code",
   "execution_count": 0,
   "metadata": {
    "colab": {},
    "colab_type": "code",
    "id": "HaryWFSRx9-_"
   },
   "outputs": [],
   "source": [
    "test_dl = DataLoader(test_ds)\n",
    "correct = evaluate_model(model, test_dl)\n",
    "print(f\"Model correct on {correct} out of {len(test_ds)} items\")"
   ]
  },
  {
   "cell_type": "markdown",
   "metadata": {
    "colab_type": "text",
    "id": "o92Dig4_yURm"
   },
   "source": [
    "## Improving the model\n",
    "\n",
    "The model only trained for a single epoch. Let's see if we can improve its performance by training for longer.\n",
    "\n",
    "First we'll change our parameters to train for 5 epochs, rather than one, then create a new retrained model:"
   ]
  },
  {
   "cell_type": "code",
   "execution_count": 0,
   "metadata": {
    "colab": {},
    "colab_type": "code",
    "id": "kn6Ze6c-ybHw"
   },
   "outputs": [],
   "source": [
    "params = Parameters(\n",
    "    batch_size=4,\n",
    "    learning_rate=0.001,\n",
    "    n_epochs=5,\n",
    "    init_params=init_params\n",
    ")\n",
    "with DerivedDataSetCreator('twocat.image.model.5', '../scratch', train_ds) as output_ds:\n",
    "    train_model_with_metadata_capture(model, train_ds, optim, loss_fn, params, output_ds)"
   ]
  },
  {
   "cell_type": "markdown",
   "metadata": {
    "colab_type": "text",
    "id": "CAzmCkZay5z8"
   },
   "source": [
    "Now we can evaluate our new model:"
   ]
  },
  {
   "cell_type": "code",
   "execution_count": 0,
   "metadata": {
    "colab": {},
    "colab_type": "code",
    "id": "1gPoDh5hztBf"
   },
   "outputs": [],
   "source": [
    "correct = evaluate_model(model, test_dl)\n",
    "print(f\"Model correct on {correct} out of {len(test_ds)} items\")"
   ]
  },
  {
   "cell_type": "markdown",
   "metadata": {
    "colab_type": "text",
    "id": "8htGUA-6zw2E"
   },
   "source": [
    "Much better!"
   ]
  },
  {
   "cell_type": "markdown",
   "metadata": {
    "colab_type": "text",
    "id": "MA4rddI7z6H9"
   },
   "source": [
    "## Applying the model to a new image\n",
    "\n",
    "Let's try applying our model to a new image. You can use the example image below, an image of a hedgehog from wikipedia, or find your own. If it's not a hedgehog or a llama, it might confuse the model though!\n",
    "\n",
    "First we'll need some libraries to load the image:"
   ]
  },
  {
   "cell_type": "code",
   "execution_count": 0,
   "metadata": {
    "colab": {},
    "colab_type": "code",
    "id": "N3QaZioj0jL0"
   },
   "outputs": [],
   "source": [
    "from imageio import imread\n",
    "from PIL import Image"
   ]
  },
  {
   "cell_type": "markdown",
   "metadata": {
    "colab_type": "text",
    "id": "qnX8oiDC73BX"
   },
   "source": [
    "Now we can load the image from a URL:"
   ]
  },
  {
   "cell_type": "code",
   "execution_count": 0,
   "metadata": {
    "colab": {},
    "colab_type": "code",
    "id": "pq45mGQK0ddN"
   },
   "outputs": [],
   "source": [
    "imarray = imread(\"https://upload.wikimedia.org/wikipedia/commons/7/72/Igel.JPG\")\n",
    "image = Image.fromarray(imarray)"
   ]
  },
  {
   "cell_type": "markdown",
   "metadata": {
    "colab_type": "text",
    "id": "DGnPIcgb8Hso"
   },
   "source": [
    "now we can look at it:"
   ]
  },
  {
   "cell_type": "code",
   "execution_count": 0,
   "metadata": {
    "colab": {},
    "colab_type": "code",
    "id": "bLMQ2DCP8Leo"
   },
   "outputs": [],
   "source": [
    "image"
   ]
  },
  {
   "cell_type": "markdown",
   "metadata": {
    "colab_type": "text",
    "id": "hWkMIFNA8RYQ"
   },
   "source": [
    "Now let's load the model that we trained:"
   ]
  },
  {
   "cell_type": "code",
   "execution_count": 0,
   "metadata": {
    "colab": {},
    "colab_type": "code",
    "id": "Vy1GZewJ0uU-"
   },
   "outputs": [],
   "source": [
    "from dtoolai.trained import TrainedTorchModel"
   ]
  },
  {
   "cell_type": "code",
   "execution_count": 0,
   "metadata": {
    "colab": {},
    "colab_type": "code",
    "id": "jIH-0CL43aOR"
   },
   "outputs": [],
   "source": [
    "model = TrainedTorchModel(\"../scratch/twocat.image.model\")"
   ]
  },
  {
   "cell_type": "markdown",
   "metadata": {
    "colab_type": "text",
    "id": "v7NFYQt_8U9V"
   },
   "source": [
    "We need to do some work to convert the image format into that which the model expects. dtoolAI has recorded the image dimensions used by the model in the model's metadata, so we can retrieve these to use for the conversion:"
   ]
  },
  {
   "cell_type": "code",
   "execution_count": 0,
   "metadata": {
    "colab": {},
    "colab_type": "code",
    "id": "Mj16T_wB3wDD"
   },
   "outputs": [],
   "source": [
    "dim = model.model_params['input_dim']\n",
    "channels = model.model_params['input_channels']\n",
    "input_format = [channels, dim, dim]"
   ]
  },
  {
   "cell_type": "markdown",
   "metadata": {
    "colab_type": "text",
    "id": "REzul5Rd8jxt"
   },
   "source": [
    "Now we'll load helper functions to convert the image:"
   ]
  },
  {
   "cell_type": "code",
   "execution_count": 0,
   "metadata": {
    "colab": {},
    "colab_type": "code",
    "id": "mo4h066L6WB7"
   },
   "outputs": [],
   "source": [
    "from dtoolai.imageutils import coerce_to_target_dim\n",
    "from torchvision.transforms.functional import to_tensor\n",
    "\n",
    "resized_converted = coerce_to_target_dim(image, input_format)\n",
    "as_tensor = to_tensor(resized_converted)"
   ]
  },
  {
   "cell_type": "markdown",
   "metadata": {
    "colab_type": "text",
    "id": "jLsoRB4J8qMM"
   },
   "source": [
    "Then we can use the model to categorise the image:"
   ]
  },
  {
   "cell_type": "code",
   "execution_count": 0,
   "metadata": {
    "colab": {},
    "colab_type": "code",
    "id": "k48zx8pC6vlu"
   },
   "outputs": [],
   "source": [
    "result = model.predict(as_tensor[None])"
   ]
  },
  {
   "cell_type": "markdown",
   "metadata": {
    "colab_type": "text",
    "id": "qgeAom2B8u-I"
   },
   "source": [
    "and check the classification:"
   ]
  },
  {
   "cell_type": "code",
   "execution_count": 0,
   "metadata": {
    "colab": {},
    "colab_type": "code",
    "id": "M5p9tFSf7Q5F"
   },
   "outputs": [],
   "source": [
    "print(f\"Classified image as {result}\")"
   ]
  }
 ],
 "metadata": {
  "colab": {
   "collapsed_sections": [],
   "name": "RetrainingExplained.ipynb",
   "provenance": []
  },
  "kernelspec": {
   "display_name": "Python 3",
   "language": "python",
   "name": "python3"
  },
  "language_info": {
   "codemirror_mode": {
    "name": "ipython",
    "version": 3
   },
   "file_extension": ".py",
   "mimetype": "text/x-python",
   "name": "python",
   "nbconvert_exporter": "python",
   "pygments_lexer": "ipython3",
   "version": "3.8.2"
  }
 },
 "nbformat": 4,
 "nbformat_minor": 1
}
