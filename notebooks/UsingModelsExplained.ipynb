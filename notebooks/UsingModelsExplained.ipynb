{
 "cells": [
  {
   "cell_type": "markdown",
   "metadata": {},
   "source": [
    "# Applying a trained model to new data\n",
    "\n",
    "To apply a trained model to new data programmatically, we need to do the following:\n",
    "\n",
    "1. Instantiate a model class with the correct model architecture.\n",
    "2. Load our learned weights for that model.\n",
    "3. Load the data and convert it to the correct format for model input.\n",
    "4. Apply the model to the data.\n",
    "5. Interpret the model output."
   ]
  },
  {
   "cell_type": "code",
   "execution_count": 1,
   "metadata": {},
   "outputs": [],
   "source": [
    "from dtoolai.trained import TrainedTorchModeledTorchModel"
   ]
  },
  {
   "cell_type": "code",
   "execution_count": null,
   "metadata": {},
   "outputs": [],
   "source": []
  }
 ],
 "metadata": {
  "kernelspec": {
   "display_name": "Python 3",
   "language": "python",
   "name": "python3"
  },
  "language_info": {
   "codemirror_mode": {
    "name": "ipython",
    "version": 3
   },
   "file_extension": ".py",
   "mimetype": "text/x-python",
   "name": "python",
   "nbconvert_exporter": "python",
   "pygments_lexer": "ipython3",
   "version": "3.7.1"
  }
 },
 "nbformat": 4,
 "nbformat_minor": 4
}
